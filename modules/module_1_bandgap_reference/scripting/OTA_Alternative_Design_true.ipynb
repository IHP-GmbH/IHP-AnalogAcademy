{
 "cells": [
  {
   "cell_type": "code",
   "execution_count": 16,
   "metadata": {},
   "outputs": [],
   "source": [
    "import os\n",
    "from pygmid import Lookup as lk\n",
    "import numpy as np\n",
    "from scipy.interpolate import interp1d\n",
    "import matplotlib.pyplot as plt\n",
    "import matplotlib as mpl\n",
    "from time import time\n",
    "#path = '/home/pedersen/misc/gmid/configs_lv' # this is the path when using in the vm\n",
    "from pathlib import Path\n",
    "\n",
    "path_local = Path('C:/Users/pedersen/Desktop/OpenDesingCourse/no_touch_files')"
   ]
  },
  {
   "cell_type": "code",
   "execution_count": 17,
   "metadata": {},
   "outputs": [],
   "source": [
    "def plot_id_w(device_type, selected_gm_id, selected_L, chosen_vds, current):\n",
    "    \"\"\"Plot ID/W vs g_m/ID for the given device type (NMOS or PMOS) with selected parameters.\n",
    "       Additionally, calculate and return current/id_w_value.\"\"\"\n",
    "    \n",
    "    # Choose the correct lookup based on the device type\n",
    "    if device_type == 'nmos':\n",
    "        lookup_fn = nmos_lv.look_up\n",
    "    elif device_type == 'pmos':\n",
    "        lookup_fn = pmos_lv.look_up\n",
    "    else:\n",
    "        raise ValueError(\"Invalid device type. Use 'nmos' or 'pmos'.\")\n",
    "\n",
    "    # Lookup ID/W value for the selected GM ID and length\n",
    "    id_w_value = lookup_fn('ID_W', GM_ID=selected_gm_id, L=selected_L, VDS=chosen_vds)\n",
    "    \n",
    "    # Calculate current/id_w_value\n",
    "    current_id_ratio = current / id_w_value if id_w_value != 0 else None\n",
    "\n",
    "    # Generate GM IDs for the plot\n",
    "    gm_ids = np.arange(3, 15 + 0.1, 0.1)\n",
    "    id_w = lookup_fn('ID_W', GM_ID=gm_ids, L=selected_L, VDS=chosen_vds)\n",
    "\n",
    "    # Plotting\n",
    "    plt.figure()\n",
    "    plt.plot(gm_ids, id_w, label=f'L = {selected_L}')\n",
    "    plt.axhline(y=id_w_value, color='green', linestyle='--', label=f\"$I_D/W={id_w_value:.2e}$\")\n",
    "    plt.plot(selected_gm_id, id_w_value, 'ro')  \n",
    "    plt.text(selected_gm_id + 0.2, id_w_value, f\"$I_D/W={id_w_value:.2e}$\", color='green')\n",
    "    plt.ylabel(r\"$I_D/W$\")\n",
    "    plt.xlabel(r\"$g_m/I_D$\")\n",
    "    plt.title(rf'$I_D/W$ vs. $g_m/I_D$ for $L = {selected_L}$')\n",
    "    plt.legend([f'L = {selected_L}']) \n",
    "    plt.show()\n",
    "\n",
    "    return current_id_ratio\n",
    "\n",
    "def determine_inversion_region(gm_id_value, device_type):\n",
    "    \"\"\"Determine the inversion region based on gm/id value for NMOS or PMOS.\"\"\"\n",
    "    if device_type == 'nmos':\n",
    "        if gm_id_value > 20:\n",
    "            return \"Weak Inversion\"\n",
    "        elif 10 < gm_id_value <= 20:\n",
    "            return \"Moderate Inversion\"\n",
    "        else:\n",
    "            return \"Strong Inversion\"\n",
    "    elif device_type == 'pmos':\n",
    "        if gm_id_value > 20:\n",
    "            return \"Weak Inversion\"\n",
    "        elif 10 < gm_id_value <= 20:\n",
    "            return \"Moderate Inversion\"\n",
    "        else:\n",
    "            return \"Strong Inversion\"\n",
    "    else:\n",
    "        raise ValueError(\"Invalid device type. Use 'nmos' or 'pmos'.\")\n",
    "\n",
    "\n",
    "def dB_to_linear(av_db):\n",
    "    return 10 ** (av_db / 20)\n",
    "\n",
    "def display_current(Id_value):\n",
    "    \"\"\"Determine the current value and its unit.\"\"\"\n",
    "    if Id_value < 1e-6:\n",
    "        return Id_value * 1e9, \"nA\"  # Convert to nA\n",
    "    elif Id_value < 1e-3:\n",
    "        return Id_value * 1e6, \"μA\"  # Convert to μA\n",
    "    else:\n",
    "        return Id_value * 1e3, \"mA\"   # Convert to mA\n",
    "\n",
    "def display_resistance(ro_value):\n",
    "    \"\"\"Determine the resistance value and its unit.\"\"\"\n",
    "    if ro_value < 1e3:\n",
    "        return ro_value, \"Ω\"\n",
    "    elif ro_value < 1e6:\n",
    "        return ro_value / 1e3, \"kΩ\"\n",
    "    elif ro_value < 1e9:\n",
    "        return ro_value / 1e6, \"MΩ\"\n",
    "    else:\n",
    "        return ro_value / 1e9, \"GΩ\"\n",
    "\n",
    "\n",
    "def calculate_missing_resistor(R_eq, R_known):\n",
    "    \"\"\"\n",
    "    Calculate the missing resistor value in a parallel resistor configuration.\n",
    "\n",
    "    Parameters:\n",
    "    R_eq (float): The equivalent resistance (R_eq).\n",
    "    R_known (float): The known resistor value (R1 or R2).\n",
    "\n",
    "    Returns:\n",
    "    float: The calculated missing resistor value (R2).\n",
    "    \"\"\"\n",
    "    if R_eq >= R_known:\n",
    "        raise ValueError(\"Equivalent resistance must be less than the known resistor.\")\n",
    "    \n",
    "    # Calculate the missing resistor value\n",
    "    R_missing = (R_eq * R_known) / (R_known - R_eq)\n",
    "    return R_missing\n",
    "\n",
    "\n",
    "def find_length_for_gm_gds(gm_id_target, gm_gds_target):\n",
    "    idx = np.abs(gm_ids - gm_id_target).argmin()\n",
    "    gm_gds_at_id = gm_gds[:, idx]  \n",
    "\n",
    "    interpolation = interp1d(gm_gds_at_id, Ls, bounds_error=False, fill_value=\"extrapolate\")\n",
    "    length_result = interpolation(gm_gds_target)\n",
    "    return length_result\n"
   ]
  },
  {
   "cell_type": "code",
   "execution_count": 18,
   "metadata": {},
   "outputs": [],
   "source": [
    "pmos_lv = lk(os.path.join(path_local, '130p1vrvt.pkl'))\n",
    "nmos_lv = lk(os.path.join(path_local, '130n1vrvt.pkl'))"
   ]
  },
  {
   "cell_type": "code",
   "execution_count": 19,
   "metadata": {},
   "outputs": [],
   "source": [
    "# setup mpl\n",
    "mpl.rcParams['axes.spines.right'] = False\n",
    "mpl.rcParams['axes.spines.top'] = False\n",
    "mpl.rcParams.update({\"axes.grid\" : True})"
   ]
  },
  {
   "attachments": {
    "image.png": {
     "image/png": "[encoded data removed]"
    }
   },
   "cell_type": "markdown",
   "metadata": {},
   "source": [
    "![image.png](attachment:image.png)"
   ]
  },
  {
   "cell_type": "markdown",
   "metadata": {},
   "source": [
    "# Specs"
   ]
  },
  {
   "cell_type": "code",
   "execution_count": 20,
   "metadata": {},
   "outputs": [],
   "source": [
    "vdd = 1.2 # supply voltage\n",
    "Cl = 1e-12 # load capacitance\n",
    "current_max = 500e-6 # maximum current\n",
    "Av = 75 # DC gain\n",
    "GBW = 25e6 # gain bandwidth product\n",
    "phase_margin = 60 # phase margin in degrees\n",
    "slew_rate = 25e6 # slew rate in V/s"
   ]
  },
  {
   "cell_type": "markdown",
   "metadata": {},
   "source": [
    "# Setting the gmid to barely meet the GBW and the SR of the input pairs\n",
    "\n",
    "$$GBW = \\frac{1}{2}\\left(\\frac{g_{m1}}{I_{D1}}\\right) \\cdot SR $$"
   ]
  },
  {
   "cell_type": "code",
   "execution_count": 26,
   "metadata": {},
   "outputs": [
    {
     "name": "stdout",
     "output_type": "stream",
     "text": [
      "gmid_12 = 12.56637061435917 which places the transistor in Moderate Inversion\n"
     ]
    }
   ],
   "source": [
    "gmid_12 = (2*(2*np.pi*GBW))/(slew_rate)\n",
    "print(f'gmid_12 = {gmid_12:} which places the transistor in ' + determine_inversion_region(gmid_12, 'nmos'))"
   ]
  },
  {
   "cell_type": "markdown",
   "metadata": {},
   "source": []
  },
  {
   "cell_type": "code",
   "execution_count": null,
   "metadata": {},
   "outputs": [],
   "source": []
  }
 ],
 "metadata": {
  "kernelspec": {
   "display_name": "Python 3",
   "language": "python",
   "name": "python3"
  },
  "language_info": {
   "codemirror_mode": {
    "name": "ipython",
    "version": 3
   },
   "file_extension": ".py",
   "mimetype": "text/x-python",
   "name": "python",
   "nbconvert_exporter": "python",
   "pygments_lexer": "ipython3",
   "version": "3.12.5"
  }
 },
 "nbformat": 4,
 "nbformat_minor": 2
}
